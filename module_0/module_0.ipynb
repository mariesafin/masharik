{
 "cells": [
  {
   "cell_type": "code",
   "execution_count": 86,
   "metadata": {
    "scrolled": true
   },
   "outputs": [
    {
     "name": "stdout",
     "output_type": "stream",
     "text": [
      "Your algorithm guesses the number on average for 5 times.\n"
     ]
    },
    {
     "data": {
      "text/plain": [
       "5"
      ]
     },
     "execution_count": 86,
     "metadata": {},
     "output_type": "execute_result"
    }
   ],
   "source": [
    "import numpy as np\n",
    "\n",
    "# Initial parameters.\n",
    "count = 0                            # Attempt counter.\n",
    "number = np.random.randint(1,101)    # Hidden number.\n",
    "\n",
    "\n",
    "def game_core_v964(number):\n",
    "    '''  The function accepts the hidden number and returns the number of attempts. '''\n",
    "    '''  Calculate the midpoint of the interval and shift its boundaries in the desired direction at each step.'''\n",
    "    \n",
    "    count = 1\n",
    "    lower_limit = 1                     \n",
    "    upper_limit = 100\n",
    "    \n",
    "    # Calculating the midpoint of the interval to the 'predict'.\n",
    "    predict = (lower_limit+upper_limit)//2\n",
    "    \n",
    "    \n",
    "    while number != predict:\n",
    "        \n",
    "        if number > predict:\n",
    "            # Check that the border is exactly shifted.\n",
    "            if lower_limit == predict:\n",
    "                lower_limit = predict+1\n",
    "            else:\n",
    "                lower_limit = predict\n",
    "            \n",
    "        elif number < predict:\n",
    "            # Check that the border is exactly shifted.\n",
    "            if upper_limit == predict:\n",
    "                upper_limit = predict-1\n",
    "            else:\n",
    "                upper_limit = predict\n",
    "            \n",
    "        predict = (lower_limit+upper_limit)//2\n",
    "        count+=1\n",
    "        \n",
    "        # Check that the program is not looped. Otherwise, return -1.\n",
    "        if count == 1000:\n",
    "            count = -1\n",
    "            break\n",
    "            \n",
    "    return(count) \n",
    "    \n",
    "    \n",
    "# Check.\n",
    "def score_game(game_core):\n",
    "    '''Run the game 1000 times to find out how fast the game guesses the number.'''\n",
    "    \n",
    "    count_ls = []\n",
    "    \n",
    "    # Fixing RANDOM SEED so that experiment is reproducible!\n",
    "    np.random.seed(1)  \n",
    "    random_array = np.random.randint(1,101, size=(1000))\n",
    "    #print(random_array) #For check.\n",
    "    \n",
    "    for number in random_array:\n",
    "        count_ls.append(game_core(number))\n",
    "    #print(count_ls) #For check.\n",
    "    \n",
    "    score = int(np.mean(count_ls))\n",
    "    \n",
    "    print(f\"Your algorithm guesses the number on average for {score} times.\")\n",
    "    \n",
    "    return(score)\n",
    "\n",
    "\n",
    "#Let the fight begin!\n",
    "score_game(game_core_v964)"
   ]
  }
 ],
 "metadata": {
  "kernelspec": {
   "display_name": "Python 3",
   "language": "python",
   "name": "python3"
  },
  "language_info": {
   "codemirror_mode": {
    "name": "ipython",
    "version": 3
   },
   "file_extension": ".py",
   "mimetype": "text/x-python",
   "name": "python",
   "nbconvert_exporter": "python",
   "pygments_lexer": "ipython3",
   "version": "3.8.3"
  }
 },
 "nbformat": 4,
 "nbformat_minor": 4
}
